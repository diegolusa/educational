{
 "cells": [
  {
   "cell_type": "markdown",
   "metadata": {},
   "source": [
    "# Estrutura de um programa C++\n",
    "\n",
    "C++ é uma linguagem de programação de propósito geral que possui recursos de abstração de dados, programação orientada a objetos e programação genérica.\n",
    "\n",
    "Todo programa C++ é escrito por meio de diversas instruções. As instruções podem apresentar diferentes tipos, dentre eles:\n",
    "\n",
    "- **Declarações**: São utilizadas para declarar variáveis e constantes em um programa.\n",
    "- **Atribuições**: Permitem modificar valores de variáveis.\n",
    "- **Diretivas de pré-processamento**: Instruções adicionadas ao código para uso pelo pré-processador de código. \n",
    "- **Comentários**: Informações adicionadas ao código que não possuem significado para o processo de compilação.\n",
    "- **Declaração de funções**: Construções utilizadas para especificar novas funções no código.\n",
    "- **Instruções**: Comandos para executar operações e instruções.\n"
   ]
  },
  {
   "cell_type": "markdown",
   "metadata": {},
   "source": [
    "A estrutura mínima de um programa funcional contém os seguintes elementos:\n",
    "\n",
    "\n",
    "```c++\n",
    "#include <iostream>\n",
    "\n",
    "int main(){\n",
    "    std::cout << \"Olá mundo\";\n",
    "    return 0;\n",
    "}\n",
    "\n",
    "```"
   ]
  },
  {
   "cell_type": "markdown",
   "metadata": {},
   "source": [
    "Desmembrando a estrutura do programa acima em termos de instruções, considerando o fluxo de leitura como sendo de cima para baixo (fluxo de execução do programa), temos inicialmente a diretiva de pré-processamento `#include <iostream>`"
   ]
  },
  {
   "cell_type": "code",
   "execution_count": 3,
   "metadata": {},
   "outputs": [],
   "source": [
    "#include <iostream>"
   ]
  },
  {
   "cell_type": "markdown",
   "metadata": {},
   "source": [
    "Diretivas de pré-processamento instruem o compilador a realizar determinada ação **antes de iniciar o processo de compilação**. Existem diferentes diretivas, sendo uma delas `include`. A diretiva `include` informa ao compilador que a biblioteca informada (no exemplo `iostream`) deve ser adicionada ao programa para que a compilação seja possível. Perceba que diretivas de pré-processamento sempre iniciam com `#` e não apresentam ponto-e-vírgula ao final da linha.\n",
    "\n",
    "Na diretiva `#include <iostream>` estamos importando a biblioteca padrão da linguagem para fluxos de entrada e saída. Esta instrução nos permite a seguir utilizar o fluxo padrão de saída `cout`. Detalhes adicionais sobre a mesma podem ser encontrados no site da [documentação oficial](http://www.cplusplus.com/reference/iostream/).\n"
   ]
  },
  {
   "cell_type": "markdown",
   "metadata": {},
   "source": [
    "Na sequência temos `int main()`. Essa instrução declara uma função, que é obrigatória para todo e qualquer programa escrito em C++. A função `main` define o ponto de entrada do programa, ou seja, onde ele inicia sua execução.\n",
    "\n",
    "Desmembrando os elementos da declaração da função `main`, temos:\n",
    "\n",
    "- **int**: indica que o tipo de retorno da função será um valor inteiro. A idéia de retorno é muito simples: quando desejamos que o chamador função receba um valor ao concluir o processamento da mesma, especificamos qual será o tipo deste valor. No caso da função `main` não podemos alterar. Logo será sempre *int* (valores inteiros).\n",
    "<br>\n",
    "- **main**: toda função tem um nome específico, afinal é pelo nome que a chamamos. No projeto da linguagem definiu-se o nome de `main` para a função principal.\n",
    "<br>\n",
    "- **()**: Os parênteses indicam os parâmetros formais da função. Parâmetros são *variáveis* por meio das quais podemos passar valores específicos para  a função.\n",
    "\n",
    "> Imagine uma função para somar dois valores inteiros. Poderíamos declarar a função como `int soma(int a, int b)`. Perceba neste exemplo que `int a` e `int b` são os parâmetros da função. Quando a função não define parâmetros, basta deixarmos na declaração `()`.\n",
    "\n",
    "\n",
    "Logo após o \"fecha parenteses\", temos o símbolo `{`. A partir deste momento estamos definindo o corpo da função (o que ela faz) na forma de um bloco. Uma ou mais instruções podem compor este bloco, sendo que o mesmo finaliza no fechamento de chaves `}` correspondente.\n"
   ]
  },
  {
   "cell_type": "code",
   "execution_count": 7,
   "metadata": {},
   "outputs": [
    {
     "name": "stdout",
     "output_type": "stream",
     "text": [
      "Olá mundo!"
     ]
    }
   ],
   "source": [
    "std::cout <<\"Olá mundo!\";"
   ]
  },
  {
   "cell_type": "markdown",
   "metadata": {},
   "source": [
    "A instrução acima imprime o literal (valor fixo) `\"Olá mundo!\"` para saída no console por meio da função (para fins didáticos, estamos chamando de função) `cout`. O operador `<<` é chamado de *operador de inserção* e nos permite enviar informações para que a função `cout` efetue a saída."
   ]
  },
  {
   "cell_type": "code",
   "execution_count": 8,
   "metadata": {},
   "outputs": [],
   "source": [
    "return 0;"
   ]
  },
  {
   "cell_type": "markdown",
   "metadata": {},
   "source": [
    "Conforme aprendemos anteriormente, toda função deve retornar algo a quem a chamou (esse algo pode ser *nada*). A função `main` é chamada pelo sistema operacional (SO), pois é o ponto de entrada no programa. Quando escrevemos `return 0;`, estamos dizendo: finaliza a função e devolve o valor inteiro 0 (zero) para o SO.\n",
    "\n",
    "**Mas por que 0 (zero)?**\n",
    "\n",
    "Por convenção. Tornou-se comum retornar 0 para indicar que o programa concluiu com sucesso. Qualquer valor diferente disso seria considerado retorno de erro. \n"
   ]
  }
 ],
 "metadata": {
  "kernelspec": {
   "display_name": "C++17",
   "language": "C++17",
   "name": "xeus-cling-cpp17"
  },
  "language_info": {
   "codemirror_mode": "text/x-c++src",
   "file_extension": ".cpp",
   "mimetype": "text/x-c++src",
   "name": "c++",
   "version": "-std=c++17"
  }
 },
 "nbformat": 4,
 "nbformat_minor": 2
}
