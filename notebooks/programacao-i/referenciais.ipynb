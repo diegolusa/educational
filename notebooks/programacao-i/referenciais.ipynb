{
 "cells": [
  {
   "cell_type": "markdown",
   "metadata": {},
   "source": [
    "# Referências"
   ]
  },
  {
   "cell_type": "markdown",
   "metadata": {},
   "source": [
    "- Kirk, David. *C++ for Geniuses*. URL: http://mypccourse.com/cosc1436/book/\n",
    "- Bjarne Stroustrup's homepage. URL: http://www.stroustrup.com/\n",
    "- MinGW. URL: https://nuwen.net/mingw.html\n",
    "- C++. URL: http://www.stroustrup.com/C++.html"
   ]
  }
 ],
 "metadata": {
  "kernelspec": {
   "display_name": "C++17",
   "language": "C++17",
   "name": "xeus-cling-cpp17"
  },
  "language_info": {
   "codemirror_mode": "text/x-c++src",
   "file_extension": ".cpp",
   "mimetype": "text/x-c++src",
   "name": "c++",
   "version": "-std=c++17"
  }
 },
 "nbformat": 4,
 "nbformat_minor": 2
}
