{
 "cells": [
  {
   "cell_type": "markdown",
   "metadata": {},
   "source": [
    "# Ambiente de Desenvolvimento\n",
    "\n",
    "<br>\n",
    "\n",
    "Para codificar softwares em C++ é preciso minimamente do [compilador](https://www.youtube.com/watch?v=_C5AHaS1mOA) e de um editor de textos. A instalação do compilador apresenta diferenças de acordo com a plataforma. Já o editor de texto pode ser qualquer um dos disponíveis.\n",
    "\n",
    "Quando falamos de codificação profissional de software, os editores de texto são substituídos por IDEs (*Integrated Development Environment*) com a finalidade de aumentar a produtividade e a qualidade do código produzido.\n",
    "\n",
    "Na sequência apresentamos a configuração do ambiente nas plataformas Linux (Debian based) e Windows.\n"
   ]
  },
  {
   "cell_type": "markdown",
   "metadata": {},
   "source": [
    "---\n",
    "\n",
    "## <img src=\"https://upload.wikimedia.org/wikipedia/commons/6/67/Tuxgaucho.svg\" alt=\"TuxGaucho\" style=\"height:60px;display:inline;\"> Plataforma Linux\n",
    "\n",
    "\n",
    "\n",
    "Normalmente as distribuições Linux já possuem o compilador **g++** instalado. Para verificar se o compilador está corretamente instalado, podemos abrir o terminal e executar o comando abaixo, que solicita a versão do mesmo.\n",
    "\n",
    "```shell\n",
    "\n",
    "g++ --version\n",
    "\n",
    "```\n",
    "\n",
    "Uma vez instalado, esperamos como saída algo semelhante a \n",
    "\n",
    "\n",
    "```\n",
    "\n",
    "g++ (Ubuntu 7.3.0-27ubuntu1~18.04) 7.3.0\n",
    "Copyright (C) 2017 Free Software Foundation, Inc.\n",
    "This is free software; see the source for copying conditions.  There is NO warranty; not even for MERCHANTABILITY or FITNESS FOR A PARTICULAR PURPOSE.\n",
    "\n",
    "```\n",
    "\n",
    "\n",
    "\n",
    "Caso o compilador não esteja instalado no sistema, será preciso utilizar a ferramenta de gestão de pacotes da distribuição para instalação. Em distruições baseadas no Debian (Ubuntu, por exemplo), o comando *apt-get install* realiza a instalação do compilador via terminal. A checagem da instalação pode ser realizada utilizando o comando *g++ --version*, conforme demonstrando anteriormente.\n",
    "\n",
    "```shell\n",
    "\n",
    "sudo apt-get install g++\n",
    "\n",
    "```"
   ]
  },
  {
   "cell_type": "markdown",
   "metadata": {},
   "source": [
    "---\n",
    "\n",
    "## <img src=\"https://upload.wikimedia.org/wikipedia/commons/thumb/e/ee/Windows_logo_%E2%80%93_2012_%28dark_blue%29.svg/240px-Windows_logo_%E2%80%93_2012_%28dark_blue%29.svg.png\" alt=\"Windows\" style=\"height:60px;display:inline;\"> Plataforma Windows\n",
    "\n",
    "\n",
    "To-do\n",
    "\n"
   ]
  },
  {
   "cell_type": "markdown",
   "metadata": {},
   "source": [
    "---\n",
    "\n",
    "## Ambiente de Desenvolvimento\n",
    "\n",
    "\n",
    "Com relação a escrita de código-fonte podemos utilizar inúmeras ferramentas. Abaixo citamos algumas das principais disponíveis no mercado atualmente.\n",
    "\n",
    "\n",
    "1. [**Visual Studio**](https://visualstudio.microsoft.com/)\n",
    "1. [Visual Studio Code](https://code.visualstudio.com/)\n",
    "1. [NetBeans](https://netbeans.org/downloads/index.html)\n",
    "1. [Eclipse](https://www.eclipse.org/downloads/packages/)\n",
    "1. [CLion](https://www.jetbrains.com/clion/)\n",
    "1. [CodeBlocks](http://www.codeblocks.org/)\n",
    "\n",
    "\n",
    "Para nossas atividades, utilizaremos o editor de códigos [**Visual Studio Code**](https://code.visualstudio.com/).  O processo de instalação do editor é simples, compreendendo o download do arquivo de pacote (.deb ou .rpm) ou instalador (conforme sistema operacional escolhido) e sua posterior instalação.\n",
    "\n",
    "\n",
    "O VsCode, como também é conhecido, é um editor avançado com suporte para inúmeras linguagens e tecnologias. Apresenta ainda interface intuitiva, baixo consumo de memória e terminal integrado. Não podemos deixar de comentar também que a ferramenta é gratuita, estando o usuário livre de qualquer cobrança/restrição em relação ao seu uso.\n",
    "\n",
    "A tela inicial do software contém à esquerda o *explorer*, no qual apresentam-se os arquivos e diretórios do projeto, ferramenta de *busca*, integração com ferramenta de *versionamento de código*, *debug*, *extensões* e outros recursos, dependendo das extensões instaladas. A parte central da tela é ocupada pelos diferentes arquivos em edição e na parte inferior consta o *terminal integrado*.\n",
    "\n",
    "\n"
   ]
  },
  {
   "cell_type": "markdown",
   "metadata": {},
   "source": [
    "![VsCode](img/vscode-start-window.png)"
   ]
  },
  {
   "cell_type": "code",
   "execution_count": null,
   "metadata": {},
   "outputs": [],
   "source": []
  }
 ],
 "metadata": {
  "kernelspec": {
   "display_name": "C++17",
   "language": "C++17",
   "name": "xeus-cling-cpp17"
  },
  "language_info": {
   "codemirror_mode": "text/x-c++src",
   "file_extension": ".cpp",
   "mimetype": "text/x-c++src",
   "name": "c++",
   "version": "-std=c++17"
  }
 },
 "nbformat": 4,
 "nbformat_minor": 2
}
